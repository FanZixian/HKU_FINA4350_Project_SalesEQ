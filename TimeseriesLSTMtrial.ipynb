{
 "cells": [
  {
   "cell_type": "code",
   "execution_count": 1,
   "metadata": {},
   "outputs": [
    {
     "name": "stdout",
     "output_type": "stream",
     "text": [
      "Intel MKL WARNING: Support of Intel(R) Streaming SIMD Extensions 4.2 (Intel(R) SSE4.2) enabled only processors has been deprecated. Intel oneAPI Math Kernel Library 2025.0 will require Intel(R) Advanced Vector Extensions (Intel(R) AVX) instructions.\n",
      "Intel MKL WARNING: Support of Intel(R) Streaming SIMD Extensions 4.2 (Intel(R) SSE4.2) enabled only processors has been deprecated. Intel oneAPI Math Kernel Library 2025.0 will require Intel(R) Advanced Vector Extensions (Intel(R) AVX) instructions.\n"
     ]
    },
    {
     "ename": "",
     "evalue": "",
     "output_type": "error",
     "traceback": [
      "\u001b[1;31mThe Kernel crashed while executing code in the the current cell or a previous cell. Please review the code in the cell(s) to identify a possible cause of the failure. Click <a href='https://aka.ms/vscodeJupyterKernelCrash'>here</a> for more info. View Jupyter <a href='command:jupyter.viewOutput'>log</a> for further details."
     ]
    },
    {
     "ename": "",
     "evalue": "",
     "output_type": "error",
     "traceback": [
      "\u001b[1;31mCanceled future for execute_request message before replies were done"
     ]
    }
   ],
   "source": [
    "import pandas as pd\n",
    "from sklearn.preprocessing import MinMaxScaler\n",
    "import numpy as np\n",
    "from keras.models import Sequential\n",
    "from keras.layers import LSTM, Dense\n",
    "from sklearn.metrics import mean_squared_error\n",
    "from sklearn.model_selection import GridSearchCV\n",
    "from keras.wrappers.scikit_learn import KerasRegressor\n",
    "\n",
    "import warnings\n",
    "warnings.filterwarnings('ignore')\n",
    "\n",
    "df = pd.read_csv(\"./tsdata/modeldata.csv\", index_col='Date', parse_dates=True)\n",
    "df.index.freq = \"MS\"\n",
    "\n",
    "\n",
    "scaler = MinMaxScaler()\n",
    "df[['returns', 'msci']] = scaler.fit_transform(df[['returns', 'msci']])\n",
    "\n",
    "df['msci_lag1'] = df['msci'].shift(1)\n",
    "df['sentiment_lag1'] = df['sentiment'].shift(1)\n",
    "df['msci_lag2'] = df['msci'].shift(2)\n",
    "df['sentiment_lag2'] = df['sentiment'].shift(2)\n",
    "df['msci_lag3'] = df['msci'].shift(3)\n",
    "df['sentiment_lag3'] = df['sentiment'].shift(3)\n",
    "\n",
    "df.dropna(inplace=True)\n",
    "\n",
    "train = df[:'2020-01-01']\n",
    "test = df['2020-01-02':]"
   ]
  },
  {
   "cell_type": "code",
   "execution_count": 83,
   "metadata": {},
   "outputs": [],
   "source": [
    "y_train_base = train['returns']\n",
    "#X = train.drop(\"returns\", axis=1)\n",
    "#X = train[\"returns\", \"msci\"]\n",
    "\n",
    "X_train_base = train[[\"returns\"]]\n",
    "\n",
    "X_train_msci = train[[\"returns\", \"msci\", \"msci_lag1\", \"msci_lag2\", \"msci_lag3\"]]\n",
    "\n",
    "X_train_sent = train[[\"returns\", \"sentiment\", \"sentiment_lag1\", \"sentiment_lag2\", \"sentiment_lag3\"]]\n",
    "\n",
    "X_train_both = train[[\"returns\", \"sentiment\", \"sentiment_lag1\", \"sentiment_lag2\", \"sentiment_lag3\", \"msci\", \"msci_lag1\", \"msci_lag2\", \"msci_lag3\"]]\n",
    "\n",
    "\n",
    "y_test = test['returns']\n",
    "#X = train.drop(\"returns\", axis=1)\n",
    "#X = train[\"returns\", \"msci\"]\n",
    "\n",
    "X_test_base = test[[\"returns\"]]\n",
    "\n",
    "X_test_msci = test[[\"returns\", \"msci\", \"msci_lag1\", \"msci_lag2\", \"msci_lag3\"]]\n",
    "\n",
    "X_test_sent = test[[\"returns\", \"sentiment\", \"sentiment_lag1\", \"sentiment_lag2\", \"sentiment_lag3\"]]\n",
    "\n",
    "X_test_both = test[[\"returns\", \"sentiment\", \"sentiment_lag1\", \"sentiment_lag2\", \"sentiment_lag3\", \"msci\", \"msci_lag1\", \"msci_lag2\", \"msci_lag3\"]]"
   ]
  },
  {
   "cell_type": "code",
   "execution_count": 88,
   "metadata": {},
   "outputs": [
    {
     "ename": "ValueError",
     "evalue": "cannot reshape array of size 470 into shape (94,1,1)",
     "output_type": "error",
     "traceback": [
      "\u001b[0;31m---------------------------------------------------------------------------\u001b[0m",
      "\u001b[0;31mValueError\u001b[0m                                Traceback (most recent call last)",
      "Cell \u001b[0;32mIn[88], line 4\u001b[0m\n\u001b[1;32m      1\u001b[0m X_train_base \u001b[38;5;241m=\u001b[39m X_train_base\u001b[38;5;241m.\u001b[39mreshape((X_train_base\u001b[38;5;241m.\u001b[39mshape[\u001b[38;5;241m0\u001b[39m], \u001b[38;5;241m1\u001b[39m, X_train_base\u001b[38;5;241m.\u001b[39mshape[\u001b[38;5;241m1\u001b[39m]))\n\u001b[1;32m      2\u001b[0m X_test_base \u001b[38;5;241m=\u001b[39m X_test_base\u001b[38;5;241m.\u001b[39mreshape((X_test_base\u001b[38;5;241m.\u001b[39mshape[\u001b[38;5;241m0\u001b[39m], \u001b[38;5;241m1\u001b[39m, X_test_base\u001b[38;5;241m.\u001b[39mshape[\u001b[38;5;241m1\u001b[39m]))\n\u001b[0;32m----> 4\u001b[0m X_train_msci \u001b[38;5;241m=\u001b[39m \u001b[43mX_train_msci\u001b[49m\u001b[38;5;241;43m.\u001b[39;49m\u001b[43mreshape\u001b[49m\u001b[43m(\u001b[49m\u001b[43m(\u001b[49m\u001b[43mX_train_msci\u001b[49m\u001b[38;5;241;43m.\u001b[39;49m\u001b[43mshape\u001b[49m\u001b[43m[\u001b[49m\u001b[38;5;241;43m0\u001b[39;49m\u001b[43m]\u001b[49m\u001b[43m,\u001b[49m\u001b[43m \u001b[49m\u001b[38;5;241;43m1\u001b[39;49m\u001b[43m,\u001b[49m\u001b[43m \u001b[49m\u001b[43mX_train_msci\u001b[49m\u001b[38;5;241;43m.\u001b[39;49m\u001b[43mshape\u001b[49m\u001b[43m[\u001b[49m\u001b[38;5;241;43m1\u001b[39;49m\u001b[43m]\u001b[49m\u001b[43m)\u001b[49m\u001b[43m)\u001b[49m\n\u001b[1;32m      5\u001b[0m X_test_msci \u001b[38;5;241m=\u001b[39m X_test_msci\u001b[38;5;241m.\u001b[39mreshape((X_test_msci\u001b[38;5;241m.\u001b[39mshape[\u001b[38;5;241m0\u001b[39m], \u001b[38;5;241m1\u001b[39m, X_test_msci\u001b[38;5;241m.\u001b[39mshape[\u001b[38;5;241m1\u001b[39m]))\n\u001b[1;32m      7\u001b[0m X_train_sent \u001b[38;5;241m=\u001b[39m X_train_msci\u001b[38;5;241m.\u001b[39mvalues\u001b[38;5;241m.\u001b[39mreshape((X_train_sent\u001b[38;5;241m.\u001b[39mshape[\u001b[38;5;241m0\u001b[39m], \u001b[38;5;241m1\u001b[39m, X_train_sent\u001b[38;5;241m.\u001b[39mshape[\u001b[38;5;241m1\u001b[39m]))\n",
      "\u001b[0;31mValueError\u001b[0m: cannot reshape array of size 470 into shape (94,1,1)"
     ]
    }
   ],
   "source": [
    "X_train_base = X_train_base.reshape((X_train_base.shape[0], 1, X_train_base.shape[1]))\n",
    "X_test_base = X_test_base.reshape((X_test_base.shape[0], 1, X_test_base.shape[1]))\n",
    "\n",
    "X_train_msci = X_train_msci.reshape((X_train_msci.shape[0], 1, X_train_msci.shape[1]))\n",
    "X_test_msci = X_test_msci.reshape((X_test_msci.shape[0], 1, X_test_msci.shape[1]))\n",
    "\n",
    "X_train_sent = X_train_msci.values.reshape((X_train_sent.shape[0], 1, X_train_sent.shape[1]))\n",
    "X_test_sent = X_test_msci.values.reshape((X_test_sent.shape[0], 1, X_test_sent.shape[1]))\n",
    "\n",
    "X_train_both = X_train_msci.values.reshape((X_train_both.shape[0], 1, X_train_sent.shape[1]))\n",
    "X_test_both = X_test_msci.values.reshape((X_test_beoth.shape[0], 1, X_test_both.shape[1]))"
   ]
  },
  {
   "cell_type": "code",
   "execution_count": 54,
   "metadata": {},
   "outputs": [],
   "source": [
    "model = Sequential()\n",
    "model.add(LSTM(50, input_shape=(X_train.shape[1], X_train.shape[2])))\n",
    "model.add(Dense(1))\n",
    "\n",
    "# Compile the model\n",
    "model.compile(loss='mean_squared_error', optimizer='adam')\n",
    "history = model.fit(X_train, y_train, epochs=100, batch_size=72, validation_data=(X_test, y_test), verbose=0, shuffle=False)"
   ]
  },
  {
   "cell_type": "code",
   "execution_count": null,
   "metadata": {},
   "outputs": [],
   "source": [
    "#base\n",
    "\n",
    "model_base = Sequential()\n",
    "model_base.add(LSTM(50, input_shape=(X_train_base.shape[1], X_train_base.shape[2])))\n",
    "model_base.add(Dense(1))\n",
    "\n",
    "# Compile the model\n",
    "model_base.compile(loss='mean_squared_error', optimizer='adam')\n",
    "history_base = model.fit(X_train_base, y_train_base, epochs=100, batch_size=72, validation_data=(X_test, y_test), verbose=0, shuffle=False)\n",
    "\n",
    "#msci\n",
    "\n",
    "model_msci = Sequential()\n",
    "model_msci.add(LSTM(50, input_shape=(X_train_msci.shape[1], X_train_msci.shape[2])))\n",
    "model_msci.add(Dense(1))\n",
    "\n",
    "# Compile the model\n",
    "model_msci.compile(loss='mean_squared_error', optimizer='adam')\n",
    "history_msci = model.fit(X_train_msci, y_train_msci, epochs=100, batch_size=72, validation_data=(X_test, y_test), verbose=0, shuffle=False)\n",
    "\n",
    "#sent\n",
    "\n",
    "model_sent = Sequential()\n",
    "model_sent.add(LSTM(50, input_shape=(X_train_sent.shape[1], X_train_sent.shape[2])))\n",
    "model_sent.add(Dense(1))\n",
    "\n",
    "# Compile the model\n",
    "model_sent.compile(loss='mean_squared_error', optimizer='adam')\n",
    "history_sent = model.fit(X_train_sent, y_train_sent, epochs=100, batch_size=72, validation_data=(X_test, y_test), verbose=0, shuffle=False)\n",
    "\n",
    "#both\n",
    "\n",
    "model_both = Sequential()\n",
    "model_both.add(LSTM(50, input_shape=(X_train_both.shape[1], X_train_both.shape[2])))\n",
    "model_both.add(Dense(1))\n",
    "\n",
    "# Compile the model\n",
    "model_both.compile(loss='mean_squared_error', optimizer='adam')\n",
    "history_both = model.fit(X_train_both, y_train_both, epochs=100, batch_size=72, validation_data=(X_test, y_test), verbose=0, shuffle=False)"
   ]
  },
  {
   "cell_type": "code",
   "execution_count": 64,
   "metadata": {},
   "outputs": [
    {
     "data": {
      "text/plain": [
       "'from keras.models import Sequential\\nfrom keras.layers import LSTM, Dense\\nfrom sklearn.model_selection import GridSearchCV\\nfrom keras.wrappers.scikit_learn import KerasRegressor\\nimport numpy as np\\n\\n# Define a function to create the LSTM model\\ndef create_model(units, epochs):\\n    model = Sequential()\\n    model.add(LSTM(units, input_shape=(X_train.shape[1], X_train.shape[2])))\\n    model.add(Dense(1))\\n    model.compile(loss=\\'mean_squared_error\\', optimizer=\\'adam\\')\\n    history = model.fit(X_train, y_train, epochs=epochs, batch_size=72, verbose=0, shuffle=False)\\n    return model\\n\\n# Create a wrapper function for the create_model function\\n#def model_wrapper(units=50, epochs=100):\\n#    return create_model(units, epochs)\\n\\n# Create a KerasRegressor based on the model_wrapper function\\nmodel = KerasRegressor(build_fn=create_model)\\n\\n\\nbatch_size = [10, 20, 40, 60, 80, 100]\\nepochs = [10, 50, 100]\\nparam_grid = dict(batch_size=batch_size, epochs=epochs)\\ngrid = GridSearchCV(estimator=model, param_grid=param_grid, n_jobs=-1, cv=3)\\ngrid_result = grid.fit(X_train, y_train)\\n\\n\\n# Print the best parameters and best score\\nprint(\"Best Parameters: \", grid_result.best_params_)\\nprint(\"Best Score: \", grid_result.best_score_)'"
      ]
     },
     "execution_count": 64,
     "metadata": {},
     "output_type": "execute_result"
    }
   ],
   "source": [
    "'''from keras.models import Sequential\n",
    "from keras.layers import LSTM, Dense\n",
    "from sklearn.model_selection import GridSearchCV\n",
    "from keras.wrappers.scikit_learn import KerasRegressor\n",
    "import numpy as np\n",
    "\n",
    "# Define a function to create the LSTM model\n",
    "def create_model(units, epochs):\n",
    "    model = Sequential()\n",
    "    model.add(LSTM(units, input_shape=(X_train.shape[1], X_train.shape[2])))\n",
    "    model.add(Dense(1))\n",
    "    model.compile(loss='mean_squared_error', optimizer='adam')\n",
    "    history = model.fit(X_train, y_train, epochs=epochs, batch_size=72, verbose=0, shuffle=False)\n",
    "    return model\n",
    "\n",
    "# Create a wrapper function for the create_model function\n",
    "#def model_wrapper(units=50, epochs=100):\n",
    "#    return create_model(units, epochs)\n",
    "\n",
    "# Create a KerasRegressor based on the model_wrapper function\n",
    "model = KerasRegressor(build_fn=create_model)\n",
    "\n",
    "\n",
    "batch_size = [10, 20, 40, 60, 80, 100]\n",
    "epochs = [10, 50, 100]\n",
    "param_grid = dict(batch_size=batch_size, epochs=epochs)\n",
    "grid = GridSearchCV(estimator=model, param_grid=param_grid, n_jobs=-1, cv=3)\n",
    "grid_result = grid.fit(X_train, y_train)\n",
    "\n",
    "\n",
    "# Print the best parameters and best score\n",
    "print(\"Best Parameters: \", grid_result.best_params_)\n",
    "print(\"Best Score: \", grid_result.best_score_)'''"
   ]
  },
  {
   "cell_type": "code",
   "execution_count": 25,
   "metadata": {},
   "outputs": [
    {
     "name": "stdout",
     "output_type": "stream",
     "text": [
      "\u001b[1m2/2\u001b[0m \u001b[32m━━━━━━━━━━━━━━━━━━━━\u001b[0m\u001b[37m\u001b[0m \u001b[1m0s\u001b[0m 3ms/step \n"
     ]
    },
    {
     "data": {
      "text/plain": [
       "array([[0.32095987],\n",
       "       [0.35959095],\n",
       "       [0.5821033 ],\n",
       "       [0.49729666],\n",
       "       [0.59385574],\n",
       "       [0.6139628 ],\n",
       "       [0.61701375],\n",
       "       [0.3420766 ],\n",
       "       [0.40073952],\n",
       "       [0.5773857 ],\n",
       "       [0.564272  ],\n",
       "       [0.4493974 ],\n",
       "       [0.35351568],\n",
       "       [0.47195736],\n",
       "       [0.49739897],\n",
       "       [0.379062  ],\n",
       "       [0.39599437],\n",
       "       [0.66906506],\n",
       "       [0.49536777],\n",
       "       [0.32168743],\n",
       "       [0.50420105],\n",
       "       [0.5153538 ],\n",
       "       [0.57215846],\n",
       "       [0.21488978],\n",
       "       [0.5514621 ],\n",
       "       [0.48305202],\n",
       "       [0.3559257 ],\n",
       "       [0.36740246],\n",
       "       [0.3319923 ],\n",
       "       [0.6374289 ],\n",
       "       [0.3957451 ],\n",
       "       [0.30530655],\n",
       "       [0.5531315 ],\n",
       "       [0.46002355],\n",
       "       [0.2672071 ]], dtype=float32)"
      ]
     },
     "execution_count": 25,
     "metadata": {},
     "output_type": "execute_result"
    }
   ],
   "source": [
    "# Make predictions\n",
    "\n",
    "#base\n",
    "\n",
    "predicted_base = model_base.predict_base(X_test)\n",
    "predicted_base\n",
    "\n",
    "#msci\n",
    "\n",
    "predicted_msci = model_msci.predict(X_test)\n",
    "predicteds_sent\n",
    "\n",
    "#sent\n",
    "\n",
    "predicted_sent = model_sent.predict(X_test)\n",
    "predicted_sent\n",
    "\n",
    "#both\n",
    "\n",
    "predicted_both = model_both.predict(X_test)\n",
    "predicted_both"
   ]
  },
  {
   "cell_type": "code",
   "execution_count": 21,
   "metadata": {},
   "outputs": [
    {
     "data": {
      "text/plain": [
       "Date\n",
       "2020-02-01    0.097432\n",
       "2020-03-01    0.130260\n",
       "2020-04-01    0.758229\n",
       "2020-05-01    0.583780\n",
       "2020-06-01    0.715974\n",
       "2020-07-01    0.798056\n",
       "2020-08-01    0.849651\n",
       "2020-09-01    0.175000\n",
       "2020-10-01    0.272177\n",
       "2020-11-01    0.697413\n",
       "2020-12-01    0.737130\n",
       "2021-01-01    0.409402\n",
       "2021-02-01    0.227381\n",
       "2021-03-01    0.423632\n",
       "2021-04-01    0.577166\n",
       "2021-05-01    0.301280\n",
       "2021-06-01    0.163470\n",
       "2021-07-01    1.000000\n",
       "2021-08-01    0.498985\n",
       "2021-09-01    0.218997\n",
       "2021-10-01    0.526515\n",
       "2021-11-01    0.634755\n",
       "2021-12-01    0.606659\n",
       "2022-01-01    0.003174\n",
       "2022-02-01    0.576372\n",
       "2022-03-01    0.541125\n",
       "2022-04-01    0.121997\n",
       "2022-05-01    0.265636\n",
       "2022-06-01    0.154506\n",
       "2022-07-01    0.839230\n",
       "2022-08-01    0.316956\n",
       "2022-09-01    0.042934\n",
       "2022-10-01    0.676721\n",
       "2022-11-01    0.355164\n",
       "2022-12-01    0.072915\n",
       "Freq: MS, Name: returns, dtype: float64"
      ]
     },
     "execution_count": 21,
     "metadata": {},
     "output_type": "execute_result"
    }
   ],
   "source": [
    "y_test"
   ]
  },
  {
   "cell_type": "code",
   "execution_count": 22,
   "metadata": {},
   "outputs": [
    {
     "data": {
      "text/plain": [
       "array([[0.32095987],\n",
       "       [0.35959095],\n",
       "       [0.5821033 ],\n",
       "       [0.49729666],\n",
       "       [0.59385574],\n",
       "       [0.6139628 ],\n",
       "       [0.61701375],\n",
       "       [0.3420766 ],\n",
       "       [0.40073952],\n",
       "       [0.5773857 ],\n",
       "       [0.564272  ],\n",
       "       [0.4493974 ],\n",
       "       [0.35351568],\n",
       "       [0.47195736],\n",
       "       [0.49739897],\n",
       "       [0.379062  ],\n",
       "       [0.39599437],\n",
       "       [0.66906506],\n",
       "       [0.49536777],\n",
       "       [0.32168743],\n",
       "       [0.50420105],\n",
       "       [0.5153538 ],\n",
       "       [0.57215846],\n",
       "       [0.21488978],\n",
       "       [0.5514621 ],\n",
       "       [0.48305202],\n",
       "       [0.3559257 ],\n",
       "       [0.36740246],\n",
       "       [0.3319923 ],\n",
       "       [0.6374289 ],\n",
       "       [0.3957451 ],\n",
       "       [0.30530655],\n",
       "       [0.5531315 ],\n",
       "       [0.46002355],\n",
       "       [0.2672071 ]], dtype=float32)"
      ]
     },
     "execution_count": 22,
     "metadata": {},
     "output_type": "execute_result"
    }
   ],
   "source": [
    "y_test = np.squeeze(y_test)\n",
    "\n",
    "predicted"
   ]
  },
  {
   "cell_type": "code",
   "execution_count": 23,
   "metadata": {},
   "outputs": [
    {
     "data": {
      "text/plain": [
       "Date\n",
       "2020-02-01    0.097432\n",
       "2020-03-01    0.130260\n",
       "2020-04-01    0.758229\n",
       "2020-05-01    0.583780\n",
       "2020-06-01    0.715974\n",
       "2020-07-01    0.798056\n",
       "2020-08-01    0.849651\n",
       "2020-09-01    0.175000\n",
       "2020-10-01    0.272177\n",
       "2020-11-01    0.697413\n",
       "2020-12-01    0.737130\n",
       "2021-01-01    0.409402\n",
       "2021-02-01    0.227381\n",
       "2021-03-01    0.423632\n",
       "2021-04-01    0.577166\n",
       "2021-05-01    0.301280\n",
       "2021-06-01    0.163470\n",
       "2021-07-01    1.000000\n",
       "2021-08-01    0.498985\n",
       "2021-09-01    0.218997\n",
       "2021-10-01    0.526515\n",
       "2021-11-01    0.634755\n",
       "2021-12-01    0.606659\n",
       "2022-01-01    0.003174\n",
       "2022-02-01    0.576372\n",
       "2022-03-01    0.541125\n",
       "2022-04-01    0.121997\n",
       "2022-05-01    0.265636\n",
       "2022-06-01    0.154506\n",
       "2022-07-01    0.839230\n",
       "2022-08-01    0.316956\n",
       "2022-09-01    0.042934\n",
       "2022-10-01    0.676721\n",
       "2022-11-01    0.355164\n",
       "2022-12-01    0.072915\n",
       "Freq: MS, Name: returns, dtype: float64"
      ]
     },
     "execution_count": 23,
     "metadata": {},
     "output_type": "execute_result"
    }
   ],
   "source": [
    "y_test"
   ]
  },
  {
   "cell_type": "code",
   "execution_count": 35,
   "metadata": {},
   "outputs": [
    {
     "name": "stdout",
     "output_type": "stream",
     "text": [
      "Test RMSE: 0.159\n"
     ]
    }
   ],
   "source": [
    "\n",
    "# Invert scaling if necessary for interpretation of the results\n",
    "#predicted = np.squeeze(predicted)\n",
    "#predicted_inv = scaler.inverse_transform(predicted)\n",
    "\n",
    "\n",
    "rmse_base = np.sqrt(mean_squared_error(y_test, predicted_base))\n",
    "print('Test RMSE: %.3f' % rmse_base)\n",
    "\n",
    "rmse_msci = np.sqrt(mean_squared_error(y_test, predicted_msci))\n",
    "print('Test RMSE: %.3f' % rmse_msci)\n",
    "\n",
    "rmse_sent = np.sqrt(mean_squared_error(y_test, predicted_sent))\n",
    "print('Test RMSE: %.3f' % rmse_sent)\n",
    "\n",
    "rmse_both = np.sqrt(mean_squared_error(y_test, predicted_both))\n",
    "print('Test RMSE: %.3f' % rmse_both)"
   ]
  },
  {
   "cell_type": "code",
   "execution_count": null,
   "metadata": {},
   "outputs": [],
   "source": []
  }
 ],
 "metadata": {
  "kernelspec": {
   "display_name": "Python 3 (ipykernel)",
   "language": "python",
   "name": "python3"
  },
  "language_info": {
   "codemirror_mode": {
    "name": "ipython",
    "version": 3
   },
   "file_extension": ".py",
   "mimetype": "text/x-python",
   "name": "python",
   "nbconvert_exporter": "python",
   "pygments_lexer": "ipython3",
   "version": "3.12.1"
  },
  "vscode": {
   "interpreter": {
    "hash": "33e514ddd44e070d440c6cf047af6a4d4e83e2b8cc52aa796edd887a6d6b5d7f"
   }
  }
 },
 "nbformat": 4,
 "nbformat_minor": 2
}
