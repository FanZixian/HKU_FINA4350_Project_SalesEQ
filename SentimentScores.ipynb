{
 "cells": [
  {
   "cell_type": "code",
   "execution_count": 176,
   "metadata": {},
   "outputs": [],
   "source": [
    "import pandas as pd\n",
    "import numpy as np\n",
    "import re\n",
    "import ast\n",
    "from collections import Counter\n",
    "from sklearn.preprocessing import MinMaxScaler\n",
    "\n",
    "#Create dictionary for monthly set of articles\n",
    "text_source = pd.read_csv('./Text_data/scrapped_articles_master.csv')\n",
    "cycles_ref = text_source['Cycle_month'].unique()\n",
    "\n",
    "def extract_cyclemonth(df, cyclemonth):\n",
    "    text_sample = df[df['Cycle_month'] == cyclemonth]['Text'].values.tolist()\n",
    "    pattern = re.compile(r'^[^a-zA-Z]*|[^a-zA-Z]*$')\n",
    "    cleaned_texts = [\"\\n\" + pattern.sub('', text).strip() + \"\\n\" for text in text_sample]\n",
    "    return cleaned_texts\n",
    "\n",
    "articles = {}\n",
    "\n",
    "for cycle in cycles_ref:\n",
    "    articles[cycle] = extract_cyclemonth(text_source, cycle)\n"
   ]
  },
  {
   "cell_type": "code",
   "execution_count": 177,
   "metadata": {},
   "outputs": [],
   "source": [
    "topwords = pd.read_csv(\"./Sentiment_data/top_sentiment_words.csv\")\n",
    "\n",
    "monthly_positive_words = {}\n",
    "monthly_negative_words = {}\n",
    "\n",
    "for index, row in topwords.iterrows():\n",
    "    positive_words = ast.literal_eval(row['positive'])\n",
    "    negative_words = ast.literal_eval(row['negative'])\n",
    "    \n",
    "    #store the generated lists in dictionaries with the cycle month as the key\n",
    "    monthly_positive_words[row['Unnamed: 0']] = positive_words\n",
    "    monthly_negative_words[row['Unnamed: 0']] = negative_words\n",
    "\n",
    "pos_ranks = {month: {word: len(monthly_positive_words[month]) - rank for rank, word in enumerate(monthly_positive_words[month])}\n",
    "             for month in monthly_positive_words.keys()}\n",
    "\n",
    "neg_ranks = {month: {word: len(monthly_negative_words[month]) - rank for rank, word in enumerate(monthly_negative_words[month])}\n",
    "             for month in monthly_negative_words.keys()}"
   ]
  },
  {
   "cell_type": "code",
   "execution_count": 183,
   "metadata": {},
   "outputs": [
    {
     "data": {
      "text/plain": [
       "-0.8014862914862916"
      ]
     },
     "execution_count": 183,
     "metadata": {},
     "output_type": "execute_result"
    }
   ],
   "source": [
    "#Calculating the sentiment scores\n",
    "\n",
    "def calculate_sentiment_with_ranking(text, pos_words, neg_words, pos_ranks, neg_ranks):\n",
    "    \"\"\"\n",
    "    Computes a sentiment score for a given text by evaluating its content against predefined lists of positive\n",
    "    and negative words and their associated rankings, taking into account the frequency of each word.\n",
    "    \n",
    "    Parameters:\n",
    "        text (str): string of words separated by spaces.\n",
    "        pos_words (set): set of K top positive words within each month.\n",
    "        neg_words (set): set of K top negative words within each month.\n",
    "        pos_ranks (dict): ranking dictionary of pos_words where higher ranks have a greater positive impact.\n",
    "        neg_ranks (dict): ranking dictionary of neg_words where higher ranks have a greater negative impact.\n",
    "        \n",
    "    Returns:\n",
    "        float: normalized sentiment score, where positive values indicate positive sentiment and negative values indicate negative sentiment.\n",
    "        Note that we do not scale the sentiment score in this function.\n",
    "        The for loop below takes care of this.\n",
    "    \"\"\"\n",
    "    words = Counter(text.lower().split())\n",
    "    max_pos_rank = max(pos_ranks.values(), default=1)\n",
    "    max_neg_rank = max(neg_ranks.values(), default=1)\n",
    "    \n",
    "    pos_score = sum((pos_ranks.get(word, 0) / max_pos_rank) * count for word, count in words.items() if word in pos_words)\n",
    "    neg_score = sum((neg_ranks.get(word, 0) / max_neg_rank) * count for word, count in words.items() if word in neg_words)\n",
    "    \n",
    "    \n",
    "    sentiment_score = (pos_score - neg_score)\n",
    "    \n",
    "    return sentiment_score\n",
    "\n",
    "\n",
    "#define data frame for storing monthly sentiment scores\n",
    "senti = pd.DataFrame()\n",
    "senti[\"month\"] = cycles_ref\n",
    "#define list for monthly sentiment scores\n",
    "scaled_sentiment_scores = []\n",
    "\n",
    "for month in cycles_ref:\n",
    "    #define list for storing sentiment scores of each month\n",
    "    month_scores = []\n",
    "    for text in articles[month]:\n",
    "\n",
    "        #extraction of positive and negative words of each month as sets, necessary for intersection check\n",
    "        pos_words = set(monthly_positive_words[month])\n",
    "        neg_words = set(monthly_negative_words[month])\n",
    "        \n",
    "        #extract the word: rank dictionaries for each month\n",
    "        pranks = pos_ranks[month]\n",
    "        nranks = neg_ranks[month]\n",
    "        \n",
    "        #calculate the sentiment score as the difference between the neg and pos count for each months\n",
    "        score = calculate_sentiment_with_ranking(text, pos_words, neg_words, pranks, nranks)\n",
    "        month_scores.append(score)\n",
    "    #check if monthly score exists\n",
    "    if month_scores: \n",
    "        #apply scikit MinMaxScaler for scaling the monthly sentiment scores into the intervall [-1,1]\n",
    "        scaler = MinMaxScaler(feature_range=(-1, 1))\n",
    "        month_scores = np.array(month_scores).reshape(-1, 1)\n",
    "        scaled_scores = scaler.fit_transform(month_scores).flatten()\n",
    "        #calculate the average scaled score for each month\n",
    "        average_scaled_score = np.mean(scaled_scores)\n",
    "    else:\n",
    "        average_scaled_score = 0\n",
    "    #append the average monthly score to the sentiment score list\n",
    "    scaled_sentiment_scores.append(average_scaled_score)\n",
    "\n",
    "senti['scaled_scores'] = scaled_sentiment_scores\n",
    "senti.to_csv(\"./Sentiment_data/sentiment_scores.csv\")"
   ]
  },
  {
   "cell_type": "code",
   "execution_count": 169,
   "metadata": {},
   "outputs": [
    {
     "name": "stdout",
     "output_type": "stream",
     "text": [
      "0.33238795903776525\n"
     ]
    }
   ],
   "source": [
    "\n",
    "#Example application of calculate_sentiment_with_ranking function using the first month in the data\n",
    "m = []\n",
    "\n",
    "for text in articles[201201]:\n",
    "    m.append(calculate_sentiment_with_ranking(text, set(monthly_positive_words[201201]), set(monthly_negative_words[201201]), pos_ranks[201201], neg_ranks[201201]))\n",
    "    score = sum(m)/len(m)\n",
    "print(score)\n"
   ]
  }
 ],
 "metadata": {
  "kernelspec": {
   "display_name": "Python 3.12.1 ('saleseq')",
   "language": "python",
   "name": "python3"
  },
  "language_info": {
   "codemirror_mode": {
    "name": "ipython",
    "version": 3
   },
   "file_extension": ".py",
   "mimetype": "text/x-python",
   "name": "python",
   "nbconvert_exporter": "python",
   "pygments_lexer": "ipython3",
   "version": "3.12.1"
  },
  "orig_nbformat": 4,
  "vscode": {
   "interpreter": {
    "hash": "33e514ddd44e070d440c6cf047af6a4d4e83e2b8cc52aa796edd887a6d6b5d7f"
   }
  }
 },
 "nbformat": 4,
 "nbformat_minor": 2
}
