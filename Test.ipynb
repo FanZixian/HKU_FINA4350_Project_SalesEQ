{
 "cells": [
  {
   "cell_type": "code",
   "execution_count": 4,
   "metadata": {},
   "outputs": [],
   "source": [
    "import pandas as pd\n",
    "import numpy as np"
   ]
  },
  {
   "cell_type": "code",
   "execution_count": 6,
   "metadata": {},
   "outputs": [
    {
     "name": "stdout",
     "output_type": "stream",
     "text": [
      "Hello\n"
     ]
    }
   ],
   "source": [
    "household = pd.read_csv(\"/Users/MaximilianDroschl/HS23/DSF Final/tza_household.csv\")\n",
    "multiple = pd.read_csv(\"/Users/MaximilianDroschl/HS23/DSF Final/tza_multiple.csv\", encoding=\"cp1252\", low_memory=False)\n",
    "\n",
    "# We only take the data for the head of every single household from the multiple dataset\n",
    "# so that we have one row per household and can merge our dataframes later.\n",
    "multiple.drop_duplicates(subset=\"SbjNum\", keep=\"first\", inplace=True)\n",
    "\n",
    "# Dropping some unnecessary rows.\n",
    "multiple = multiple[~multiple[\"A2_2\"].str.contains(\"-|s\", na=False)]\n",
    "\n",
    "\n",
    "print(\"Hello\")\n"
   ]
  },
  {
   "cell_type": "code",
   "execution_count": null,
   "metadata": {},
   "outputs": [],
   "source": []
  }
 ],
 "metadata": {
  "kernelspec": {
   "display_name": "Python 3.11.5 ('base')",
   "language": "python",
   "name": "python3"
  },
  "language_info": {
   "codemirror_mode": {
    "name": "ipython",
    "version": 3
   },
   "file_extension": ".py",
   "mimetype": "text/x-python",
   "name": "python",
   "nbconvert_exporter": "python",
   "pygments_lexer": "ipython3",
   "version": "3.11.5"
  },
  "orig_nbformat": 4,
  "vscode": {
   "interpreter": {
    "hash": "9ee379bd0cbfa27a212eba11d45cff482ac834c639226027a7e011d45ccf9f2c"
   }
  }
 },
 "nbformat": 4,
 "nbformat_minor": 2
}
