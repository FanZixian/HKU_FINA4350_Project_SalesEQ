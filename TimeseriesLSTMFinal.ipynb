{
 "cells": [
  {
   "cell_type": "code",
   "execution_count": 3,
   "metadata": {},
   "outputs": [],
   "source": [
    "import numpy as np\n",
    "import pandas as pd\n",
    "from sklearn.preprocessing import MinMaxScaler\n",
    "from sklearn.metrics import mean_squared_error\n",
    "from tensorflow.keras.models import Sequential\n",
    "from tensorflow.keras.layers import LSTM, Dense\n",
    "from scikeras.wrappers import KerasRegressor\n",
    "from sklearn.model_selection import GridSearchCV\n",
    "\n",
    "# Function to create the LSTM model\n",
    "def create_lstm_model(input_shape):\n",
    "    model = Sequential()\n",
    "    model.add(LSTM(50, input_shape=input_shape))\n",
    "    model.add(Dense(1))\n",
    "    model.compile(loss='mean_squared_error', optimizer='adam')\n",
    "    return model\n",
    "\n",
    "# Function to fit the LSTM model\n",
    "def fit_lstm_model(X_train, y_train, batch_size, epochs, input_shape):\n",
    "    model = create_lstm_model(input_shape)\n",
    "    model.fit(X_train, y_train, epochs=epochs, batch_size=batch_size, verbose=0)\n",
    "    return model"
   ]
  },
  {
   "cell_type": "code",
   "execution_count": 4,
   "metadata": {},
   "outputs": [
    {
     "name": "stdout",
     "output_type": "stream",
     "text": [
      "             returns  msci  sentiment\n",
      "Date                                 \n",
      "2012-01-01  0.078040   5.1  -0.008786\n",
      "2012-02-01  0.146806   0.3   0.148969\n",
      "2012-03-01  0.083715   0.9  -0.140396\n",
      "2012-04-01  0.001341   0.2  -0.019119\n",
      "2012-05-01 -0.047849   2.9  -0.070178\n",
      "...              ...   ...        ...\n",
      "2022-08-01 -0.031358   6.7  -0.371627\n",
      "2022-09-01 -0.128034   0.4   0.699164\n",
      "2022-10-01  0.095568   1.3  -0.017947\n",
      "2022-11-01 -0.017879  -3.2  -0.370013\n",
      "2022-12-01 -0.117456   3.1  -0.709726\n",
      "\n",
      "[132 rows x 3 columns]\n"
     ]
    }
   ],
   "source": [
    "# Load your dataset\n",
    "data = pd.read_csv(\"modeldata.csv\", index_col='Date', parse_dates=True)\n",
    "print(data)\n",
    "\n",
    "# Assign variables to independent and target variables\n",
    "X = data[['returns', 'msci', 'sentiment']].values\n",
    "y = data['returns'].values\n",
    "\n",
    "# Normalize the data\n",
    "scaler = MinMaxScaler()\n",
    "X_scaled = scaler.fit_transform(X)\n",
    "y_scaled = scaler.fit_transform(y.reshape(-1, 1))\n",
    "\n",
    "# Split the data into train and test sets\n",
    "train_size = int(len(X_scaled) * 0.8)\n",
    "X_train, X_test = X_scaled[:train_size], X_scaled[train_size:]\n",
    "y_train, y_test = y_scaled[:train_size], y_scaled[train_size:]\n",
    "\n",
    "# Reshape the data for LSTM input\n",
    "X_train = X_train.reshape(X_train.shape[0], X_train.shape[1], 1)  # Update reshaping\n",
    "X_test = X_test.reshape(X_test.shape[0], X_test.shape[1], 1)  # Update reshaping\n",
    "input_shape = (X_train.shape[1], 1)  # Update input shape"
   ]
  },
  {
   "cell_type": "code",
   "execution_count": 5,
   "metadata": {},
   "outputs": [
    {
     "name": "stderr",
     "output_type": "stream",
     "text": [
      "/Users/LUCIFER/anaconda3/lib/python3.10/site-packages/keras/src/layers/rnn/rnn.py:204: UserWarning: Do not pass an `input_shape`/`input_dim` argument to a layer. When using Sequential models, prefer using an `Input(shape)` object as the first layer in the model instead.\n",
      "  super().__init__(**kwargs)\n"
     ]
    },
    {
     "name": "stdout",
     "output_type": "stream",
     "text": [
      "\u001b[1m1/1\u001b[0m \u001b[32m━━━━━━━━━━━━━━━━━━━━\u001b[0m\u001b[37m\u001b[0m \u001b[1m0s\u001b[0m 130ms/step\n"
     ]
    },
    {
     "name": "stderr",
     "output_type": "stream",
     "text": [
      "/Users/LUCIFER/anaconda3/lib/python3.10/site-packages/keras/src/layers/rnn/rnn.py:204: UserWarning: Do not pass an `input_shape`/`input_dim` argument to a layer. When using Sequential models, prefer using an `Input(shape)` object as the first layer in the model instead.\n",
      "  super().__init__(**kwargs)\n"
     ]
    },
    {
     "name": "stdout",
     "output_type": "stream",
     "text": [
      "\u001b[1m1/1\u001b[0m \u001b[32m━━━━━━━━━━━━━━━━━━━━\u001b[0m\u001b[37m\u001b[0m \u001b[1m0s\u001b[0m 109ms/step\n"
     ]
    },
    {
     "name": "stderr",
     "output_type": "stream",
     "text": [
      "/Users/LUCIFER/anaconda3/lib/python3.10/site-packages/keras/src/layers/rnn/rnn.py:204: UserWarning: Do not pass an `input_shape`/`input_dim` argument to a layer. When using Sequential models, prefer using an `Input(shape)` object as the first layer in the model instead.\n",
      "  super().__init__(**kwargs)\n"
     ]
    },
    {
     "name": "stdout",
     "output_type": "stream",
     "text": [
      "\u001b[1m1/1\u001b[0m \u001b[32m━━━━━━━━━━━━━━━━━━━━\u001b[0m\u001b[37m\u001b[0m \u001b[1m0s\u001b[0m 105ms/step\n"
     ]
    },
    {
     "name": "stderr",
     "output_type": "stream",
     "text": [
      "/Users/LUCIFER/anaconda3/lib/python3.10/site-packages/keras/src/layers/rnn/rnn.py:204: UserWarning: Do not pass an `input_shape`/`input_dim` argument to a layer. When using Sequential models, prefer using an `Input(shape)` object as the first layer in the model instead.\n",
      "  super().__init__(**kwargs)\n"
     ]
    },
    {
     "name": "stdout",
     "output_type": "stream",
     "text": [
      "\u001b[1m1/1\u001b[0m \u001b[32m━━━━━━━━━━━━━━━━━━━━\u001b[0m\u001b[37m\u001b[0m \u001b[1m0s\u001b[0m 109ms/step\n"
     ]
    }
   ],
   "source": [
    "# Base Model: Only using historical returns\n",
    "base_model = fit_lstm_model(X_train[:, [0]], y_train, batch_size=1, epochs=100, input_shape=input_shape)\n",
    "base_y_pred = base_model.predict(X_test[:, [0]])\n",
    "base_y_pred = scaler.inverse_transform(base_y_pred)\n",
    "base_rmse = np.sqrt(mean_squared_error(y_test, base_y_pred))\n",
    "\n",
    "# MSCI Model: Using only MSCI and historical returns\n",
    "msci_model = fit_lstm_model(X_train[:, [0, 1]], y_train, batch_size=1, epochs=100, input_shape=input_shape)\n",
    "msci_y_pred = msci_model.predict(X_test[:, [0, 1]])\n",
    "msci_y_pred = scaler.inverse_transform(msci_y_pred)\n",
    "msci_rmse = np.sqrt(mean_squared_error(y_test, msci_y_pred))\n",
    "\n",
    "# Sentiment Model: Using only Sentiment Scores and historical returns\n",
    "sent_model = fit_lstm_model(X_train[:, [0, 2]], y_train, batch_size=1, epochs=100, input_shape=input_shape)\n",
    "sent_y_pred = sent_model.predict(X_test[:, [0, 2]])\n",
    "sent_y_pred = scaler.inverse_transform(sent_y_pred)\n",
    "sent_rmse = np.sqrt(mean_squared_error(y_test, sent_y_pred))\n",
    "\n",
    "# Both Model: Using MSCI, Sentiment, and historical returns\n",
    "both_model = fit_lstm_model(X_train, y_train, batch_size=1, epochs=100, input_shape=input_shape)\n",
    "both_y_pred = both_model.predict(X_test)\n",
    "both_y_pred = scaler.inverse_transform(both_y_pred)\n",
    "both_rmse = np.sqrt(mean_squared_error(y_test, both_y_pred))"
   ]
  },
  {
   "cell_type": "code",
   "execution_count": 7,
   "metadata": {},
   "outputs": [
    {
     "name": "stdout",
     "output_type": "stream",
     "text": [
      "Base Model RMSE: 0.44515726476595463\n",
      "MSCI Model RMSE: 0.44373214215841816\n",
      "Sentiment Model RMSE: 0.44472949266400713\n",
      "Both Model RMSE: 0.4448538070978331\n"
     ]
    }
   ],
   "source": [
    "# Print the RMSE scores for each model\n",
    "print(\"Base Model RMSE:\", base_rmse)\n",
    "print(\"MSCI Model RMSE:\", msci_rmse)\n",
    "print(\"Sentiment Model RMSE:\", sent_rmse)\n",
    "print(\"Both Model RMSE:\", both_rmse)"
   ]
  },
  {
   "cell_type": "code",
   "execution_count": null,
   "metadata": {},
   "outputs": [],
   "source": []
  }
 ],
 "metadata": {
  "kernelspec": {
   "display_name": "Python 3 (ipykernel)",
   "language": "python",
   "name": "python3"
  },
  "language_info": {
   "codemirror_mode": {
    "name": "ipython",
    "version": 3
   },
   "file_extension": ".py",
   "mimetype": "text/x-python",
   "name": "python",
   "nbconvert_exporter": "python",
   "pygments_lexer": "ipython3",
   "version": "3.10.9"
  },
  "vscode": {
   "interpreter": {
    "hash": "33e514ddd44e070d440c6cf047af6a4d4e83e2b8cc52aa796edd887a6d6b5d7f"
   }
  }
 },
 "nbformat": 4,
 "nbformat_minor": 2
}
