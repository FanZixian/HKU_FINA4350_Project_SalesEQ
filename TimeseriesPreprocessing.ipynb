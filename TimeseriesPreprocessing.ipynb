{
 "cells": [
  {
   "cell_type": "code",
   "execution_count": 1,
   "metadata": {},
   "outputs": [
    {
     "name": "stderr",
     "output_type": "stream",
     "text": [
      "[*********************100%%**********************]  3 of 3 completed\n",
      "[*********************100%%**********************]  1 of 1 completed\n"
     ]
    }
   ],
   "source": [
    "import pandas as pd\n",
    "import numpy as np\n",
    "import os as os\n",
    "import yfinance as yf\n",
    "import pandas_datareader.data as pdr\n",
    "\n",
    "\n",
    "tickers = ['AAPL', 'MSI', 'GOOGL']\n",
    "\n",
    "price_data = yf.download(tickers, start='2012-01-01', end='2022-12-31', interval='1mo')['Close']\n",
    "\n",
    "#we have to download the data separately for Samsung as it is not in US prices:\n",
    "samsung_data = yf.download('005930.KS', start='2012-01-01', end='2022-12-31', interval='1mo')['Close']\n",
    "\n",
    "#fetching usd/krw historical exchange rate to convert samsung KWR stock price to USD stock price\n",
    "exchange_rates = pdr.DataReader('DEXKOUS', 'fred', start='2012-01-01', end='2022-12-31')\n",
    "exchange_rates = exchange_rates.resample('1ME').ffill().reindex(samsung_data.index, method='nearest')\n",
    "price_data['SAMS'] = samsung_data / exchange_rates['DEXKOUS']\n",
    "order = ['AAPL', 'SAMS', 'GOOGL', 'MSI']\n",
    "price_data = price_data[order]\n",
    "\n",
    "\n",
    "\n",
    "weights = [0.6823, 0.2520, 0.0390, 0.0267]\n",
    "weighted_prices = price_data.multiply(weights, axis='columns')\n",
    "portfolio_value = weighted_prices.sum(axis=1)"
   ]
  },
  {
   "cell_type": "code",
   "execution_count": 3,
   "metadata": {},
   "outputs": [],
   "source": [
    "#Next, we will preprocess the other exogenous variables, which includes the CPI growth rate in the US, GDP growth rate, unemployment rate, and the Michigan Sentiment Consumer Index\n",
    "class PreprocessCPIGrowth:\n",
    "    def __init__(self, data):\n",
    "        self.data = data\n",
    "\n",
    "    def preprocess(self):\n",
    "        self.data[\"Date\"] = pd.to_datetime(self.data[\"DATE\"], format='%Y/%m/%d')\n",
    "        self.data = self.data.sort_values(\"Date\")\n",
    "        self.data = self.data[(self.data[\"Date\"] >= '2012-01-01') & (self.data[\"Date\"] <= '2022-12-31')]\n",
    "        self.data = self.data.groupby(self.data[\"Date\"].dt.to_period(\"M\")).last()\n",
    "        if 'DATE' in self.data.columns:\n",
    "            self.data.drop(columns=['DATE'], inplace=True)\n",
    "            self.data.reset_index(drop=True, inplace=True)\n",
    "        self.data['Date'] = pd.to_datetime(self.data['Date'])\n",
    "        self.data.set_index('Date', inplace=True)\n",
    "        return self.data\n",
    "\n",
    "\n",
    "cpigrowth = pd.read_csv(\"./tsdata/cpigrowth.csv\")\n",
    "cpigrowth_preprocessed = PreprocessCPIGrowth(cpigrowth)\n",
    "cpigrowth = cpigrowth_preprocessed.preprocess()\n"
   ]
  },
  {
   "cell_type": "code",
   "execution_count": 4,
   "metadata": {},
   "outputs": [],
   "source": [
    "class PreprocessUnemploymentRate:\n",
    "    def __init__(self, data):\n",
    "        self.data = data\n",
    "\n",
    "    def preprocess(self):\n",
    "        self.data[\"Date\"] = pd.to_datetime(self.data[\"DATE\"], format='%Y-%m-%d')\n",
    "        self.data = self.data.sort_values(\"Date\")\n",
    "        self.data = self.data[(self.data[\"Date\"] >= '2012-01-01') & (self.data[\"Date\"] <= '2022-12-31')]\n",
    "        self.data = self.data.groupby(self.data[\"Date\"].dt.to_period(\"M\")).last()\n",
    "        self.data.drop(columns=[\"DATE\", \"Date\"], inplace=True)\n",
    "        return self.data\n",
    "\n",
    "unemploymentrate = pd.read_csv(\"./tsdata/unemploymentrate.csv\")\n",
    "unemploymentrat_preprocessed = PreprocessUnemploymentRate(unemploymentrate)\n",
    "unemploymentrate = unemploymentrat_preprocessed.preprocess()\n"
   ]
  },
  {
   "cell_type": "code",
   "execution_count": 6,
   "metadata": {},
   "outputs": [],
   "source": [
    "class PreprocessMichiganSentiment:\n",
    "    def __init__(self, data):\n",
    "        self.data = data\n",
    "\n",
    "    def preprocess(self):\n",
    "        self.data[\"Date\"] = pd.to_datetime(self.data[\"YYYY\"].astype(str) + '-' + self.data[\"Month\"], format='%Y-%B')\n",
    "        self.data = self.data.sort_values(\"Date\")\n",
    "        self.data = self.data[(self.data[\"Date\"] >= '2012-01-01') & (self.data[\"Date\"] <= '2022-12-31')]\n",
    "        self.data = self.data.groupby(self.data[\"Date\"].dt.to_period(\"M\")).last()\n",
    "        self.data.reset_index(drop=True, inplace=True)\n",
    "        self.data.drop(columns=['Month', 'YYYY'], inplace=True)\n",
    "\n",
    "        self.data['Date'] = pd.to_datetime(self.data['Date'])\n",
    "        self.data.set_index('Date', inplace=True)\n",
    "        return self.data\n",
    "\n",
    "\n",
    "\n",
    "michigansentiment = pd.read_csv(\"./tsdata/michigansentiment.csv\")\n",
    "michigansentiment_preprocessed = PreprocessMichiganSentiment(michigansentiment)\n",
    "michigansentiment = michigansentiment_preprocessed.preprocess()\n"
   ]
  },
  {
   "cell_type": "code",
   "execution_count": 8,
   "metadata": {},
   "outputs": [],
   "source": [
    "class PreprocessGDPGrowth:\n",
    "\n",
    "    def __init__(self, data):\n",
    "        self.data = data\n",
    "\n",
    "    def preprocess(self):\n",
    "        self.data = self.data.drop(columns = [\"...1\"])\n",
    "        self.data[\"Date\"] = pd.date_range(start=\"1992-01-01\", periods=len(self.data), freq='ME')\n",
    "        self.data = self.data[(self.data[\"Date\"] >= '2012-01-01') & (self.data[\"Date\"] <= '2022-12-31')]\n",
    "        self.data = self.data[['Date', 'Monthly Real GDP Index']]\n",
    "\n",
    "        self.data['Date'] = pd.to_datetime(self.data['Date'])\n",
    "        self.data.set_index('Date', inplace=True)\n",
    "        return self.data\n",
    "\n",
    "gdpgrowth = pd.read_csv(\"./tsdata/gdpgrowth.csv\")\n",
    "gdpgrowth_preprocessed = PreprocessGDPGrowth(gdpgrowth)\n",
    "gdpgrowth = gdpgrowth_preprocessed.preprocess()"
   ]
  },
  {
   "cell_type": "code",
   "execution_count": 9,
   "metadata": {},
   "outputs": [],
   "source": [
    "#Create final data frame\n",
    "df = pd.DataFrame()\n",
    "\n",
    "df.index = cpigrowth.index\n",
    "\n",
    "sentiment = pd.read_csv(\"./Sentiment_data/sentiment_scores.csv\")\n",
    "\n",
    "\n",
    "df[\"price\"] = portfolio_value.values\n",
    "df[\"gdpgrowth\"] = gdpgrowth[\"Monthly Real GDP Index\"].values\n",
    "df[\"cpigrowth\"] = cpigrowth[\"USACPALTT01CTGYM\"].values\n",
    "df[\"unemp\"] = unemploymentrate[\"UNRATE\"].values\n",
    "df[\"msci\"] = michigansentiment[\"ICS_ALL\"].values\n",
    "df.to_csv('./tsdata/finalDF.csv', index=True)\n"
   ]
  }
 ],
 "metadata": {
  "kernelspec": {
   "display_name": "Python 3.12.1 ('saleseq')",
   "language": "python",
   "name": "python3"
  },
  "language_info": {
   "codemirror_mode": {
    "name": "ipython",
    "version": 3
   },
   "file_extension": ".py",
   "mimetype": "text/x-python",
   "name": "python",
   "nbconvert_exporter": "python",
   "pygments_lexer": "ipython3",
   "version": "3.12.1"
  },
  "orig_nbformat": 4,
  "vscode": {
   "interpreter": {
    "hash": "33e514ddd44e070d440c6cf047af6a4d4e83e2b8cc52aa796edd887a6d6b5d7f"
   }
  }
 },
 "nbformat": 4,
 "nbformat_minor": 2
}
