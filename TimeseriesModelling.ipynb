{
 "cells": [
  {
   "cell_type": "code",
   "execution_count": 20,
   "metadata": {},
   "outputs": [],
   "source": [
    "#This script performs several setps of time series analyis\n",
    "# First section: Order selection for ARIMAX model based on lowest AIC and BIC for both the base case (without ex. variables)\n",
    "# and the complete model using sentiment scores\n",
    "# Second section: Testing for model performance improvement when including sentiment scores (either msci and own sentiment score)\n",
    "\n",
    "# The aim of our research is not to identify multicollinearity, endogeneity, the only purpose is to test in all the following scripts whether the predictive power of two different models can be improved.\n",
    "\n",
    "import pandas as pd\n",
    "from statsmodels.tsa.statespace.sarimax import SARIMAX\n",
    "from sklearn.preprocessing import MinMaxScaler\n",
    "import matplotlib.pyplot as plt\n",
    "\n",
    "import warnings\n",
    "warnings.filterwarnings('ignore')\n",
    "\n",
    "df = pd.read_csv(\"./tsdata/modeldata.csv\", index_col='Date', parse_dates=True)\n",
    "df.index.freq = \"MS\"\n",
    "\n",
    "\n",
    "scaler = MinMaxScaler()\n",
    "df[['returns', 'msci']] = scaler.fit_transform(df[['returns', 'msci']])\n",
    "\n",
    "df['returns_lag1'] = df['returns'].shift(1)\n",
    "df['msci_lag1'] = df['msci'].shift(1)\n",
    "df['sentiment_lag1'] = df['sentiment'].shift(1)\n",
    "\n",
    "df.dropna(inplace=True)\n",
    "\n",
    "train = df[:'2020-01-01']\n",
    "test = df['2020-01-02':]"
   ]
  },
  {
   "cell_type": "code",
   "execution_count": 7,
   "metadata": {},
   "outputs": [],
   "source": [
    "#First section\n",
    "\n",
    "def evaluateModel(data, exog, order):\n",
    "    model = SARIMAX(data, exog=exog, order=(order[0], 0, order[1]), enforce_stationarity=True, enforce_invertibility=True)\n",
    "    model_fit = model.fit(disp=False, maxiter = 300)\n",
    "    return order, model_fit.aic, model_fit.bic\n",
    "\n",
    "orders = [(p, q) for p in range(5) for q in range(5) if (p, q) != (0, 0)]\n",
    "\n",
    "results_base = []\n",
    "results_exog = []\n",
    "\n",
    "#Base model\n",
    "for order in orders:\n",
    "    try:\n",
    "        order, aic, bic = evaluateModel(returntrain, None, order)\n",
    "        results_base.append([order, aic, bic])\n",
    "    except Exception as e:\n",
    "        print(f\"Order {order} failed: {e}\")\n",
    "\n",
    "#Including sentiment scores\n",
    "for order in orders:\n",
    "    try:\n",
    "        order, aic_exo, bic_exo = evaluateModel(returntrain, mscitrain, order)\n",
    "        results_exog.append([order, aic_exo, bic_exo])\n",
    "    except Exception as e:\n",
    "        print(f\"Order {order} with exogenous variables failed: {e}\")\n",
    "\n",
    "df_base = pd.DataFrame(results_base, columns=['Order', 'AIC', 'BIC'])\n",
    "df_exog = pd.DataFrame(results_exog, columns=['Order', 'AIC', 'BIC'])"
   ]
  },
  {
   "cell_type": "code",
   "execution_count": 5,
   "metadata": {},
   "outputs": [
    {
     "name": "stdout",
     "output_type": "stream",
     "text": [
      "Base model with lowest AIC: Order        (0, 1)\n",
      "AIC      -265.93149\n",
      "BIC     -260.802794\n",
      "Name: 0, dtype: object\n",
      "Base model with lowest BIC: Order        (0, 1)\n",
      "AIC      -265.93149\n",
      "BIC     -260.802794\n",
      "Name: 0, dtype: object\n",
      "Exog model with lowest AIC: Order        (0, 1)\n",
      "AIC     -264.016992\n",
      "BIC     -256.323947\n",
      "Name: 0, dtype: object\n",
      "Exog model with lowest BIC: Order        (0, 1)\n",
      "AIC     -264.016992\n",
      "BIC     -256.323947\n",
      "Name: 0, dtype: object\n"
     ]
    }
   ],
   "source": [
    "min_aic_base_index = df_base['AIC'].idxmin()\n",
    "min_bic_base_index = df_base['BIC'].idxmin()\n",
    "\n",
    "min_aic_base_order = df_base.loc[min_aic_base_index]\n",
    "min_bic_base_order = df_base.loc[min_bic_base_index]\n",
    "\n",
    "min_aic_exog_index = df_exog['AIC'].idxmin()\n",
    "min_bic_exog_index = df_exog['BIC'].idxmin()\n",
    "\n",
    "min_aic_exog_order = df_exog.loc[min_aic_exog_index]\n",
    "min_bic_exog_order = df_exog.loc[min_bic_exog_index]\n",
    "\n",
    "# Printing the results\n",
    "print(\"Base model with lowest AIC:\", min_aic_base_order)\n",
    "print(\"Base model with lowest BIC:\", min_bic_base_order)\n",
    "print(\"Exog model with lowest AIC:\", min_aic_exog_order)\n",
    "print(\"Exog model with lowest BIC:\", min_bic_exog_order)"
   ]
  },
  {
   "cell_type": "code",
   "execution_count": 6,
   "metadata": {},
   "outputs": [
    {
     "name": "stdout",
     "output_type": "stream",
     "text": [
      "Best base model (lowest AIC and BIC):\n",
      "    Order        AIC         BIC\n",
      "0  (0, 1) -265.93149 -260.802794\n",
      "\n",
      "Best exogenous model (lowest AIC and BIC):\n",
      "    Order         AIC         BIC\n",
      "0  (0, 1) -264.016992 -256.323947\n"
     ]
    }
   ],
   "source": [
    "min_aic_base = df_base['AIC'].min()\n",
    "min_bic_base = df_base['BIC'].min()\n",
    "best_base_model = df_base[(df_base['AIC'] == min_aic_base) & (df_base['BIC'] == min_bic_base)]\n",
    "\n",
    "\n",
    "min_aic_exog = df_exog['AIC'].min()\n",
    "min_bic_exog = df_exog['BIC'].min()\n",
    "best_exog_model = df_exog[(df_exog['AIC'] == min_aic_exog) & (df_exog['BIC'] == min_bic_exog)]\n",
    "\n",
    "print(\"Best base model (lowest AIC and BIC):\")\n",
    "print(best_base_model)\n",
    "print(\"\\nBest exogenous model (lowest AIC and BIC):\")\n",
    "print(best_exog_model)"
   ]
  }
 ],
 "metadata": {
  "kernelspec": {
   "display_name": "Python 3.12.1 ('saleseq')",
   "language": "python",
   "name": "python3"
  },
  "language_info": {
   "codemirror_mode": {
    "name": "ipython",
    "version": 3
   },
   "file_extension": ".py",
   "mimetype": "text/x-python",
   "name": "python",
   "nbconvert_exporter": "python",
   "pygments_lexer": "ipython3",
   "version": "3.12.1"
  },
  "orig_nbformat": 4,
  "vscode": {
   "interpreter": {
    "hash": "33e514ddd44e070d440c6cf047af6a4d4e83e2b8cc52aa796edd887a6d6b5d7f"
   }
  }
 },
 "nbformat": 4,
 "nbformat_minor": 2
}
